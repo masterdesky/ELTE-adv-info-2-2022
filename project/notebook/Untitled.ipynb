{
 "cells": [
  {
   "cell_type": "code",
   "execution_count": 5,
   "id": "81af7388-4918-41b1-b14c-a63f51c3eeed",
   "metadata": {},
   "outputs": [],
   "source": [
    "import sympy\n",
    "import numpy as np\n",
    "import matplotlib.pyplot as plt"
   ]
  },
  {
   "cell_type": "code",
   "execution_count": 24,
   "id": "a03c377d-24f8-45c4-8d95-bbe45c07ba41",
   "metadata": {},
   "outputs": [],
   "source": [
    "x, nu, t = sympy.symbols('x nu t')\n",
    "phi      = (sympy.exp(-(x - 4*t)**2/(4*nu*(t + 1))) + sympy.exp(-(x - 4*t - 2*sympy.pi)**2/(4*nu*(t+1))))       #phi expression\n",
    "\n",
    "phi_prime = phi.diff(x)"
   ]
  },
  {
   "cell_type": "code",
   "execution_count": 20,
   "id": "f879a2a9-5d26-4ab3-8480-77ddbb5b210d",
   "metadata": {},
   "outputs": [
    {
     "data": {
      "text/latex": [
       "$\\displaystyle e^{- \\frac{\\left(- 4 t + x - 2 \\pi\\right)^{2}}{4 \\nu \\left(t + 1\\right)}} + e^{- \\frac{\\left(- 4 t + x\\right)^{2}}{4 \\nu \\left(t + 1\\right)}}$"
      ],
      "text/plain": [
       "exp(-(-4*t + x - 2*pi)**2/(4*nu*(t + 1))) + exp(-(-4*t + x)**2/(4*nu*(t + 1)))"
      ]
     },
     "execution_count": 20,
     "metadata": {},
     "output_type": "execute_result"
    }
   ],
   "source": [
    "phi"
   ]
  },
  {
   "cell_type": "code",
   "execution_count": 25,
   "id": "d9badf12-508e-4cd6-babf-a08c58a78f25",
   "metadata": {},
   "outputs": [
    {
     "data": {
      "text/latex": [
       "$\\displaystyle - \\frac{\\left(- 8 t + 2 x\\right) e^{- \\frac{\\left(- 4 t + x\\right)^{2}}{4 \\nu \\left(t + 1\\right)}}}{4 \\nu \\left(t + 1\\right)} - \\frac{\\left(- 8 t + 2 x - 4 \\pi\\right) e^{- \\frac{\\left(- 4 t + x - 2 \\pi\\right)^{2}}{4 \\nu \\left(t + 1\\right)}}}{4 \\nu \\left(t + 1\\right)}$"
      ],
      "text/plain": [
       "-(-8*t + 2*x)*exp(-(-4*t + x)**2/(4*nu*(t + 1)))/(4*nu*(t + 1)) - (-8*t + 2*x - 4*pi)*exp(-(-4*t + x - 2*pi)**2/(4*nu*(t + 1)))/(4*nu*(t + 1))"
      ]
     },
     "execution_count": 25,
     "metadata": {},
     "output_type": "execute_result"
    }
   ],
   "source": [
    "phi_prime"
   ]
  },
  {
   "cell_type": "code",
   "execution_count": 14,
   "id": "11e510bf-af3d-438f-8022-06e85f55e2cf",
   "metadata": {},
   "outputs": [],
   "source": [
    "u = -2 * nu * (phi_prime/phi) + 4 "
   ]
  },
  {
   "cell_type": "code",
   "execution_count": 125,
   "id": "5ed93967-801f-4369-85dc-d481f795eae2",
   "metadata": {},
   "outputs": [],
   "source": [
    "nx = 101                                #grid points\n",
    "nt =  20                                #number of timesteps\n",
    "dx =  2 * np.pi / (nx - 1)           #grid spacing\n",
    "nu = .07                                #viscosity\n",
    "dt = dx * nu                            #timestep size\n",
    "\n",
    "x  = np.linspace(0, 2 * np.pi, nx)\n",
    "\n",
    "# Initial conditions\n",
    "t = 0\n",
    "phi = \\\n",
    "np.exp(- np.power((-4*t + x - 2*np.pi), 2) / (4 * nu * (t + 1))) + \\\n",
    "np.exp(- np.power((-4*t + x), 2) / (4 * nu * (t + 1)))\n",
    "phi_prime = \\\n",
    "- (-8*t + 2*x) / (4 * nu * (t + 1)) * \\\n",
    "np.exp(- np.power((-4*t + x), 2) / (4 * nu * (t + 1))) - \\\n",
    "(-8*t + 2*x - 4*np.pi) / (4 * nu * (t+1)) * \\\n",
    "np.exp(- np.power((-4 * t + x - 2*np.pi), 2) / (4 * nu * (t + 1)))"
   ]
  },
  {
   "cell_type": "code",
   "execution_count": 130,
   "id": "3344e735-d5ab-440e-b900-18964ecfa31c",
   "metadata": {},
   "outputs": [],
   "source": [
    "u = -2*nu*(phi_prime/phi) + 4"
   ]
  },
  {
   "cell_type": "code",
   "execution_count": 131,
   "id": "72874af8-b996-48e7-a699-af177b01d057",
   "metadata": {},
   "outputs": [
    {
     "data": {
      "text/plain": [
       "array([4.        , 4.06283185, 4.12566371, 4.18849556, 4.25132741,\n",
       "       4.31415927, 4.37699112, 4.43982297, 4.50265482, 4.56548668,\n",
       "       4.62831853, 4.69115038, 4.75398224, 4.81681409, 4.87964594,\n",
       "       4.9424778 , 5.00530965, 5.0681415 , 5.13097336, 5.19380521,\n",
       "       5.25663706, 5.31946891, 5.38230077, 5.44513262, 5.50796447,\n",
       "       5.57079633, 5.63362818, 5.69646003, 5.75929189, 5.82212374,\n",
       "       5.88495559, 5.94778745, 6.0106193 , 6.07345115, 6.136283  ,\n",
       "       6.19911486, 6.26194671, 6.32477856, 6.38761042, 6.45044227,\n",
       "       6.51327412, 6.57610598, 6.63893783, 6.70176967, 6.76460125,\n",
       "       6.82742866, 6.89018589, 6.95176632, 6.99367964, 6.72527549,\n",
       "       4.        , 1.27472451, 1.00632036, 1.04823368, 1.10981411,\n",
       "       1.17257134, 1.23539875, 1.29823033, 1.36106217, 1.42389402,\n",
       "       1.48672588, 1.54955773, 1.61238958, 1.67522144, 1.73805329,\n",
       "       1.80088514, 1.863717  , 1.92654885, 1.9893807 , 2.05221255,\n",
       "       2.11504441, 2.17787626, 2.24070811, 2.30353997, 2.36637182,\n",
       "       2.42920367, 2.49203553, 2.55486738, 2.61769923, 2.68053109,\n",
       "       2.74336294, 2.80619479, 2.86902664, 2.9318585 , 2.99469035,\n",
       "       3.0575222 , 3.12035406, 3.18318591, 3.24601776, 3.30884962,\n",
       "       3.37168147, 3.43451332, 3.49734518, 3.56017703, 3.62300888,\n",
       "       3.68584073, 3.74867259, 3.81150444, 3.87433629, 3.93716815,\n",
       "       4.        ])"
      ]
     },
     "execution_count": 131,
     "metadata": {},
     "output_type": "execute_result"
    }
   ],
   "source": [
    "u"
   ]
  },
  {
   "cell_type": "code",
   "execution_count": 132,
   "id": "b4b1f747-43b5-40e5-a6d0-704a1f8eea30",
   "metadata": {},
   "outputs": [],
   "source": [
    "data = np.genfromtxt('../data/burgers1d.dat')"
   ]
  },
  {
   "cell_type": "code",
   "execution_count": 133,
   "id": "0f74042e-cc52-4235-949b-c95adfffd73b",
   "metadata": {},
   "outputs": [
    {
     "data": {
      "text/plain": [
       "array([4.     , 4.03157, 4.06315, 4.09472, 4.1263 , 4.15787, 4.18944,\n",
       "       4.22102, 4.25259, 4.28416, 4.31574, 4.34731, 4.37889, 4.41046,\n",
       "       4.44203, 4.47361, 4.50518, 4.53675, 4.56833, 4.5999 , 4.63148,\n",
       "       4.66305, 4.69462, 4.7262 , 4.75777, 4.78934, 4.82092, 4.85249,\n",
       "       4.88407, 4.91564, 4.94721, 4.97879, 5.01036, 5.04194, 5.07351,\n",
       "       5.10508, 5.13666, 5.16823, 5.1998 , 5.23138, 5.26295, 5.29453,\n",
       "       5.3261 , 5.35767, 5.38925, 5.42082, 5.45239, 5.48397, 5.51554,\n",
       "       5.54712, 5.57869, 5.61026, 5.64184, 5.67341, 5.70498, 5.73656,\n",
       "       5.76813, 5.79971, 5.83128, 5.86285, 5.89443, 5.926  , 5.95758,\n",
       "       5.98915, 6.02072, 6.0523 , 6.08387, 6.11544, 6.14702, 6.17859,\n",
       "       6.21017, 6.24174, 6.27331, 6.30489, 6.33646, 6.36803, 6.39961,\n",
       "       6.43118, 6.46276, 6.49433, 6.5259 , 6.55748, 6.58905, 6.62063,\n",
       "       6.6522 , 6.68377, 6.71535, 6.74692, 6.77849, 6.81005, 6.84159,\n",
       "       6.87305, 6.90421, 6.93438, 6.96108, 6.97589, 6.9502 , 6.79174,\n",
       "       6.24776, 4.92799, 3.07201, 1.75224, 1.20826, 1.0498 , 1.02411,\n",
       "       1.03892, 1.06562, 1.09579, 1.12695, 1.15841, 1.18995, 1.22151,\n",
       "       1.25308, 1.28465, 1.31623, 1.3478 , 1.37937, 1.41095, 1.44252,\n",
       "       1.4741 , 1.50567, 1.53724, 1.56882, 1.60039, 1.63197, 1.66354,\n",
       "       1.69511, 1.72669, 1.75826, 1.78983, 1.82141, 1.85298, 1.88456,\n",
       "       1.91613, 1.9477 , 1.97928, 2.01085, 2.04242, 2.074  , 2.10557,\n",
       "       2.13715, 2.16872, 2.20029, 2.23187, 2.26344, 2.29502, 2.32659,\n",
       "       2.35816, 2.38974, 2.42131, 2.45288, 2.48446, 2.51603, 2.54761,\n",
       "       2.57918, 2.61075, 2.64233, 2.6739 , 2.70547, 2.73705, 2.76862,\n",
       "       2.8002 , 2.83177, 2.86334, 2.89492, 2.92649, 2.95806, 2.98964,\n",
       "       3.02121, 3.05279, 3.08436, 3.11593, 3.14751, 3.17908, 3.21066,\n",
       "       3.24223, 3.2738 , 3.30538, 3.33695, 3.36852, 3.4001 , 3.43167,\n",
       "       3.46325, 3.49482, 3.52639, 3.55797, 3.58954, 3.62111, 3.65269,\n",
       "       3.68426, 3.71584, 3.74741, 3.77898, 3.81056, 3.84213, 3.8737 ,\n",
       "       3.90528, 3.93685, 3.96843, 4.     ])"
      ]
     },
     "execution_count": 133,
     "metadata": {},
     "output_type": "execute_result"
    }
   ],
   "source": [
    "data[0]"
   ]
  },
  {
   "cell_type": "code",
   "execution_count": 139,
   "id": "dd5e6d3a-f791-45e6-978e-1ece10000c16",
   "metadata": {},
   "outputs": [
    {
     "data": {
      "image/png": "[encoded data removed]",
      "text/plain": [
       "<Figure size 576x360 with 1 Axes>"
      ]
     },
     "metadata": {
      "needs_background": "light"
     },
     "output_type": "display_data"
    }
   ],
   "source": [
    "fig, ax = plt.subplots(figsize=(8, 5))\n",
    "\n",
    "ax.plot(data[0])\n",
    "\n",
    "plt.show()"
   ]
  },
  {
   "cell_type": "code",
   "execution_count": 83,
   "id": "ab4128c2-cc5e-4293-aec6-6f4a1cf6b7d4",
   "metadata": {},
   "outputs": [
    {
     "data": {
      "text/plain": [
       "9"
      ]
     },
     "execution_count": 83,
     "metadata": {},
     "output_type": "execute_result"
    }
   ],
   "source": [
    "-1%10"
   ]
  },
  {
   "cell_type": "code",
   "execution_count": null,
   "id": "be1271e3-8c24-4276-ad44-10e3a2f2a2f2",
   "metadata": {},
   "outputs": [],
   "source": [
    "\n"
   ]
  }
 ],
 "metadata": {
  "kernelspec": {
   "display_name": "Python 3 (ipykernel)",
   "language": "python",
   "name": "python3"
  },
  "language_info": {
   "codemirror_mode": {
    "name": "ipython",
    "version": 3
   },
   "file_extension": ".py",
   "mimetype": "text/x-python",
   "name": "python",
   "nbconvert_exporter": "python",
   "pygments_lexer": "ipython3",
   "version": "3.10.4"
  }
 },
 "nbformat": 4,
 "nbformat_minor": 5
}
