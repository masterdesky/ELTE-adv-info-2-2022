{
 "cells": [
  {
   "cell_type": "code",
   "execution_count": 1,
   "id": "81af7388-4918-41b1-b14c-a63f51c3eeed",
   "metadata": {},
   "outputs": [],
   "source": [
    "import sympy\n",
    "import numpy as np\n",
    "import matplotlib.pyplot as plt"
   ]
  },
  {
   "cell_type": "code",
   "execution_count": 2,
   "id": "b4b1f747-43b5-40e5-a6d0-704a1f8eea30",
   "metadata": {},
   "outputs": [],
   "source": [
    "data = np.genfromtxt('../data/burgers2d.dat')"
   ]
  },
  {
   "cell_type": "code",
   "execution_count": 8,
   "id": "d62acd5d-c255-4d24-a43c-ee5441524942",
   "metadata": {},
   "outputs": [],
   "source": [
    "Nx = Ny = int(np.sqrt(data.shape[1]))"
   ]
  },
  {
   "cell_type": "code",
   "execution_count": 14,
   "id": "5734289a-e946-4c30-909a-3ad74c2e5aa1",
   "metadata": {},
   "outputs": [],
   "source": [
    "X, Y = np.meshgrid(np.linspace(-5, 5, 50), np.linspace(-5, 5, 50))"
   ]
  },
  {
   "cell_type": "code",
   "execution_count": 26,
   "id": "211c8f5a-48a2-42ed-ba4f-f1c970ed43d9",
   "metadata": {},
   "outputs": [
    {
     "data": {
      "image/png": "[encoded data removed]",
      "text/plain": [
       "<Figure size 864x432 with 2 Axes>"
      ]
     },
     "metadata": {
      "needs_background": "light"
     },
     "output_type": "display_data"
    }
   ],
   "source": [
    "nr, nc = 1, 2\n",
    "fig, axes = plt.subplots(nr, nc, figsize=(nc*6, nr*6))\n",
    "\n",
    "for ax in axes.flat:\n",
    "    ax.axis('off')\n",
    "    ax.set_aspect('equal')\n",
    "axes[0].contourf(X, Y, data[0].reshape(Nx, Ny))\n",
    "axes[1].contourf(X, Y, data[-1].reshape(Nx, Ny))\n",
    "\n",
    "plt.show()"
   ]
  },
  {
   "cell_type": "code",
   "execution_count": null,
   "id": "877ba285-4230-458c-9bed-8ad0d57514d3",
   "metadata": {},
   "outputs": [],
   "source": []
  }
 ],
 "metadata": {
  "kernelspec": {
   "display_name": "Python 3 (ipykernel)",
   "language": "python",
   "name": "python3"
  },
  "language_info": {
   "codemirror_mode": {
    "name": "ipython",
    "version": 3
   },
   "file_extension": ".py",
   "mimetype": "text/x-python",
   "name": "python",
   "nbconvert_exporter": "python",
   "pygments_lexer": "ipython3",
   "version": "3.10.5"
  }
 },
 "nbformat": 4,
 "nbformat_minor": 5
}
